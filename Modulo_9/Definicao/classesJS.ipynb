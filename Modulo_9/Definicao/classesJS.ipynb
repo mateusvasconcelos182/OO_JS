{
 "cells": [
  {
   "cell_type": "markdown",
   "source": [
    "## Classes no JavaScript\r\n",
    "\r\n",
    "- As classes na verdade são funções, ou seja, muda a forma de nós escrevermos, mas o JS utiliza as mesmas técnicas que utilizamos antes;\r\n",
    "- Tornando este método um **syntatic suggar**;\r\n",
    "- Então aprender como funciona por baixa dos panos, como foi visto ao longo do curso. Será mais fácil de entender os conceitos."
   ],
   "metadata": {}
  }
 ],
 "metadata": {
  "orig_nbformat": 4,
  "language_info": {
   "name": "python"
  }
 },
 "nbformat": 4,
 "nbformat_minor": 2
}