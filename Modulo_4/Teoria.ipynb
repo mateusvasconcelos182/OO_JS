{
 "cells": [
  {
   "cell_type": "markdown",
   "source": [
    "## Objetos\r\n",
    "\r\n",
    "- A representação de uma Classe;\r\n",
    "- Fundamental para a Orientação a Objetos;\r\n",
    "- Tem propriedades que representam as características de um objeto;\r\n",
    "- Tem métodos que representam as ações de um objeto;\r\n",
    "\r\n",
    "## Classes\r\n",
    "\r\n",
    "- É como se fosse o molde do objeto;\r\n",
    "- Geralmente se criam diversos objetos da mesma classe;\r\n",
    "- Normalmente já possui as propriedades e métodos que os objetos vão utilizar;\r\n",
    "- A Classe no JS foi introduzida na versão ES6 da linguagem;\r\n",
    "\r\n",
    "## Encapsulation\r\n",
    "\r\n",
    "- Quando um objeto contém, ou encapsula, dados ou meios de fazer algo com os dados (usando métodos);\r\n",
    "- Um outro aspecto da encapsulação é ter propriedades e métodos: **púbilicos**, **privados** ou **protegidos**;\r\n",
    "- No JK não temos estes meios de forma nativa, tudo é público;\r\n",
    "- Porém podemos contornar isso;\r\n",
    "\r\n",
    "## Aggregation\r\n",
    "\r\n",
    "- Também conhecido como Composition;\r\n",
    "- O ato de combinar diversos objetos em um maior;\r\n",
    "- Isso serve para não termos um objeto muito grande e complexo;\r\n",
    "- Objeto grande = SalaDeAula;\r\n",
    "- Objeto Aggregation = SalaDeAula com Aluno, Cadeira, Lousa e etc; (Classe aluno, classe cadeira, etc)\r\n",
    "- A asla de aula foi dividida em diversos objetos, que cada um tem sua responsabilidade\r\n",
    "\r\n",
    "## Inheritance (Herança)\r\n",
    "\r\n",
    "- Quando um objeto ou classe deriva de uma outra classe;\r\n",
    "- Podendo herdar suas propriedades e métodos;\r\n",
    "- Fazendo com que você crie classes com o comportamento semelhante, porém para fins distintos;\r\n",
    "\r\n",
    "## Polymorphism\r\n",
    "\r\n",
    "- É a possibilidade de utilizar um método de uma classe pai de uma maneira diferente;\r\n",
    "- Que se adapte as necessidades do novo objeto, sem precisar alterar o método do objeto pai;\r\n",
    "- Importante citar que o polimorfismo utiliza o conceito de herança;\r\n"
   ],
   "metadata": {}
  }
 ],
 "metadata": {
  "orig_nbformat": 4,
  "language_info": {
   "name": "python"
  }
 },
 "nbformat": 4,
 "nbformat_minor": 2
}