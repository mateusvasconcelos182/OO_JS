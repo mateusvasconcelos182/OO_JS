{
 "cells": [
  {
   "cell_type": "markdown",
   "source": [
    "## Os built in objects \r\n",
    "\r\n",
    "- Objetos que são criados pelos desenvolvedores da linguagem;\r\n",
    "- Que originam strings, arrays e objetos;\r\n",
    "- Este objetos criados por nós herdam suas propriedades e métodos;\r\n",
    "- Um aspecto da **herança**;\r\n",
    "- Porém no JavaScript isto é mais conhecido pelo conceito de **Prototype**, que todo objeto tem um pai;"
   ],
   "metadata": {}
  }
 ],
 "metadata": {
  "orig_nbformat": 4,
  "language_info": {
   "name": "python"
  }
 },
 "nbformat": 4,
 "nbformat_minor": 2
}